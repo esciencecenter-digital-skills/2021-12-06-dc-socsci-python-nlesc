{
 "cells": [
  {
   "cell_type": "markdown",
   "id": "grateful-federal",
   "metadata": {},
   "source": [
    "## Variables and types"
   ]
  },
  {
   "cell_type": "code",
   "execution_count": 2,
   "id": "southwest-minimum",
   "metadata": {},
   "outputs": [],
   "source": [
    "a = 2\n",
    "b = 3.142"
   ]
  },
  {
   "cell_type": "code",
   "execution_count": 3,
   "id": "breathing-trailer",
   "metadata": {},
   "outputs": [
    {
     "name": "stdout",
     "output_type": "stream",
     "text": [
      "2\n"
     ]
    }
   ],
   "source": [
    "print(a)"
   ]
  },
  {
   "cell_type": "code",
   "execution_count": 4,
   "id": "composed-bahamas",
   "metadata": {},
   "outputs": [
    {
     "ename": "NameError",
     "evalue": "name 'c' is not defined",
     "output_type": "error",
     "traceback": [
      "\u001b[0;31m---------------------------------------------------------------------------\u001b[0m",
      "\u001b[0;31mNameError\u001b[0m                                 Traceback (most recent call last)",
      "\u001b[0;32m<ipython-input-4-2b66fd261ee5>\u001b[0m in \u001b[0;36m<module>\u001b[0;34m\u001b[0m\n\u001b[0;32m----> 1\u001b[0;31m \u001b[0mc\u001b[0m\u001b[0;34m\u001b[0m\u001b[0;34m\u001b[0m\u001b[0m\n\u001b[0m",
      "\u001b[0;31mNameError\u001b[0m: name 'c' is not defined"
     ]
    }
   ],
   "source": [
    "c"
   ]
  },
  {
   "cell_type": "code",
   "execution_count": 5,
   "id": "certain-lyric",
   "metadata": {},
   "outputs": [
    {
     "name": "stdout",
     "output_type": "stream",
     "text": [
      "<class 'int'>\n",
      "<class 'float'>\n"
     ]
    }
   ],
   "source": [
    "print(type(a))\n",
    "print(type(b))"
   ]
  },
  {
   "cell_type": "code",
   "execution_count": 6,
   "id": "systematic-rates",
   "metadata": {},
   "outputs": [
    {
     "name": "stdout",
     "output_type": "stream",
     "text": [
      "<class 'str'>\n"
     ]
    }
   ],
   "source": [
    "s = \"Hello World\"\n",
    "print(type(s))"
   ]
  },
  {
   "cell_type": "code",
   "execution_count": 7,
   "id": "exciting-notion",
   "metadata": {},
   "outputs": [
    {
     "name": "stdout",
     "output_type": "stream",
     "text": [
      "2\n",
      "3.142\n"
     ]
    }
   ],
   "source": [
    "print(a)\n",
    "print(b)"
   ]
  },
  {
   "cell_type": "markdown",
   "id": "suspected-contemporary",
   "metadata": {},
   "source": [
    "## Arithmetic"
   ]
  },
  {
   "cell_type": "code",
   "execution_count": 8,
   "id": "transparent-choice",
   "metadata": {},
   "outputs": [
    {
     "name": "stdout",
     "output_type": "stream",
     "text": [
      "5.1419999999999995\n"
     ]
    }
   ],
   "source": [
    "print(a + b)"
   ]
  },
  {
   "cell_type": "code",
   "execution_count": 9,
   "id": "anonymous-victim",
   "metadata": {},
   "outputs": [
    {
     "name": "stdout",
     "output_type": "stream",
     "text": [
      "6.284\n"
     ]
    }
   ],
   "source": [
    "print(a * b)"
   ]
  },
  {
   "cell_type": "code",
   "execution_count": 10,
   "id": "elder-korean",
   "metadata": {},
   "outputs": [
    {
     "name": "stdout",
     "output_type": "stream",
     "text": [
      "9.872164\n"
     ]
    }
   ],
   "source": [
    "print(b ** a)"
   ]
  },
  {
   "cell_type": "code",
   "execution_count": 11,
   "id": "charged-vulnerability",
   "metadata": {},
   "outputs": [
    {
     "name": "stdout",
     "output_type": "stream",
     "text": [
      "2.0\n"
     ]
    }
   ],
   "source": [
    "print(a % b)"
   ]
  },
  {
   "cell_type": "code",
   "execution_count": 12,
   "id": "accredited-mechanism",
   "metadata": {},
   "outputs": [
    {
     "name": "stdout",
     "output_type": "stream",
     "text": [
      "7.1419999999999995\n"
     ]
    }
   ],
   "source": [
    "print(2 * a + b)"
   ]
  },
  {
   "cell_type": "code",
   "execution_count": 13,
   "id": "equivalent-washington",
   "metadata": {},
   "outputs": [
    {
     "name": "stdout",
     "output_type": "stream",
     "text": [
      "2.6666666666666665\n"
     ]
    }
   ],
   "source": [
    "d = 8\n",
    "e = 3\n",
    "print(d / e)"
   ]
  },
  {
   "cell_type": "code",
   "execution_count": 14,
   "id": "italic-warner",
   "metadata": {},
   "outputs": [
    {
     "name": "stdout",
     "output_type": "stream",
     "text": [
      "2\n"
     ]
    }
   ],
   "source": [
    "print(d % e)"
   ]
  },
  {
   "cell_type": "code",
   "execution_count": 15,
   "id": "according-newsletter",
   "metadata": {},
   "outputs": [
    {
     "name": "stdout",
     "output_type": "stream",
     "text": [
      "10.283999999999999\n"
     ]
    }
   ],
   "source": [
    "print(2 * (a + b))"
   ]
  },
  {
   "cell_type": "code",
   "execution_count": 16,
   "id": "tutorial-sigma",
   "metadata": {},
   "outputs": [
    {
     "name": "stdout",
     "output_type": "stream",
     "text": [
      "a is_2_b is_3.142\n"
     ]
    }
   ],
   "source": [
    "print(\"a is\", a, \"b is\", b, sep=\"_\")"
   ]
  },
  {
   "cell_type": "code",
   "execution_count": 17,
   "id": "handled-coral",
   "metadata": {},
   "outputs": [
    {
     "name": "stdout",
     "output_type": "stream",
     "text": [
      "a is 2 b is 3.142    end\n"
     ]
    }
   ],
   "source": [
    "print(\"a is\", a, \"b is\", b, end=\"    \")\n",
    "print(\"end\")"
   ]
  },
  {
   "cell_type": "code",
   "execution_count": 18,
   "id": "intense-methodology",
   "metadata": {},
   "outputs": [
    {
     "name": "stdout",
     "output_type": "stream",
     "text": [
      "Help on built-in function print in module builtins:\n",
      "\n",
      "print(...)\n",
      "    print(value, ..., sep=' ', end='\\n', file=sys.stdout, flush=False)\n",
      "    \n",
      "    Prints the values to a stream, or to sys.stdout by default.\n",
      "    Optional keyword arguments:\n",
      "    file:  a file-like object (stream); defaults to the current sys.stdout.\n",
      "    sep:   string inserted between values, default a space.\n",
      "    end:   string appended after the last value, default a newline.\n",
      "    flush: whether to forcibly flush the stream.\n",
      "\n"
     ]
    }
   ],
   "source": [
    "help(print)"
   ]
  },
  {
   "cell_type": "markdown",
   "id": "lightweight-environment",
   "metadata": {},
   "source": [
    "## Changing data types"
   ]
  },
  {
   "cell_type": "code",
   "execution_count": 19,
   "id": "peripheral-nursery",
   "metadata": {},
   "outputs": [
    {
     "name": "stdout",
     "output_type": "stream",
     "text": [
      "<class 'str'>\n"
     ]
    }
   ],
   "source": [
    "a = \"3.142\"\n",
    "print(type(a))"
   ]
  },
  {
   "cell_type": "code",
   "execution_count": 20,
   "id": "universal-rebound",
   "metadata": {},
   "outputs": [
    {
     "name": "stdout",
     "output_type": "stream",
     "text": [
      "<class 'float'>\n"
     ]
    }
   ],
   "source": [
    "print(type(float(a)))"
   ]
  },
  {
   "cell_type": "code",
   "execution_count": 21,
   "id": "partial-silence",
   "metadata": {},
   "outputs": [
    {
     "ename": "ValueError",
     "evalue": "invalid literal for int() with base 10: '3.142'",
     "output_type": "error",
     "traceback": [
      "\u001b[0;31m---------------------------------------------------------------------------\u001b[0m",
      "\u001b[0;31mValueError\u001b[0m                                Traceback (most recent call last)",
      "\u001b[0;32m<ipython-input-21-8b2ab3991dae>\u001b[0m in \u001b[0;36m<module>\u001b[0;34m\u001b[0m\n\u001b[0;32m----> 1\u001b[0;31m \u001b[0mint\u001b[0m\u001b[0;34m(\u001b[0m\u001b[0ma\u001b[0m\u001b[0;34m)\u001b[0m\u001b[0;34m\u001b[0m\u001b[0;34m\u001b[0m\u001b[0m\n\u001b[0m",
      "\u001b[0;31mValueError\u001b[0m: invalid literal for int() with base 10: '3.142'"
     ]
    }
   ],
   "source": [
    "int(a)"
   ]
  },
  {
   "cell_type": "code",
   "execution_count": 22,
   "id": "subject-engineer",
   "metadata": {},
   "outputs": [
    {
     "data": {
      "text/plain": [
       "2.0"
      ]
     },
     "execution_count": 22,
     "metadata": {},
     "output_type": "execute_result"
    }
   ],
   "source": [
    "float(2)"
   ]
  },
  {
   "cell_type": "code",
   "execution_count": 23,
   "id": "raising-toilet",
   "metadata": {},
   "outputs": [
    {
     "data": {
      "text/plain": [
       "3"
      ]
     },
     "execution_count": 23,
     "metadata": {},
     "output_type": "execute_result"
    }
   ],
   "source": [
    "int(3.142)"
   ]
  },
  {
   "cell_type": "code",
   "execution_count": 24,
   "id": "serious-culture",
   "metadata": {},
   "outputs": [
    {
     "data": {
      "text/plain": [
       "3"
      ]
     },
     "execution_count": 24,
     "metadata": {},
     "output_type": "execute_result"
    }
   ],
   "source": [
    "int(3.9)"
   ]
  },
  {
   "cell_type": "code",
   "execution_count": 25,
   "id": "fewer-imperial",
   "metadata": {},
   "outputs": [
    {
     "name": "stdout",
     "output_type": "stream",
     "text": [
      "<class 'float'>\n"
     ]
    }
   ],
   "source": [
    "a = float(a)\n",
    "print(type(a))"
   ]
  },
  {
   "cell_type": "code",
   "execution_count": 26,
   "id": "reverse-manual",
   "metadata": {},
   "outputs": [
    {
     "name": "stdout",
     "output_type": "stream",
     "text": [
      "<class 'str'>\n"
     ]
    }
   ],
   "source": [
    "b = \"Hello World\"\n",
    "print(type(b))"
   ]
  },
  {
   "cell_type": "code",
   "execution_count": 27,
   "id": "exposed-classics",
   "metadata": {},
   "outputs": [
    {
     "ename": "ValueError",
     "evalue": "invalid literal for int() with base 10: 'Hello World'",
     "output_type": "error",
     "traceback": [
      "\u001b[0;31m---------------------------------------------------------------------------\u001b[0m",
      "\u001b[0;31mValueError\u001b[0m                                Traceback (most recent call last)",
      "\u001b[0;32m<ipython-input-27-07ae29993d50>\u001b[0m in \u001b[0;36m<module>\u001b[0;34m\u001b[0m\n\u001b[0;32m----> 1\u001b[0;31m \u001b[0mint\u001b[0m\u001b[0;34m(\u001b[0m\u001b[0mb\u001b[0m\u001b[0;34m)\u001b[0m\u001b[0;34m\u001b[0m\u001b[0;34m\u001b[0m\u001b[0m\n\u001b[0m",
      "\u001b[0;31mValueError\u001b[0m: invalid literal for int() with base 10: 'Hello World'"
     ]
    }
   ],
   "source": [
    "int(b)"
   ]
  },
  {
   "cell_type": "markdown",
   "id": "occasional-summer",
   "metadata": {},
   "source": [
    "## Strings"
   ]
  },
  {
   "cell_type": "code",
   "execution_count": 28,
   "id": "armed-hardware",
   "metadata": {},
   "outputs": [
    {
     "name": "stdout",
     "output_type": "stream",
     "text": [
      "Leon\n"
     ]
    }
   ],
   "source": [
    "name = \"Leon\"\n",
    "print(name)"
   ]
  },
  {
   "cell_type": "code",
   "execution_count": 29,
   "id": "handy-climate",
   "metadata": {},
   "outputs": [
    {
     "name": "stdout",
     "output_type": "stream",
     "text": [
      "My name is Leon.\n"
     ]
    }
   ],
   "source": [
    "my_sentence = \"My name is \" + name + \".\"\n",
    "print(my_sentence)"
   ]
  },
  {
   "cell_type": "code",
   "execution_count": 30,
   "id": "experimental-spoke",
   "metadata": {},
   "outputs": [
    {
     "name": "stdout",
     "output_type": "stream",
     "text": [
      "16\n"
     ]
    }
   ],
   "source": [
    "print(len(my_sentence))"
   ]
  },
  {
   "cell_type": "code",
   "execution_count": 31,
   "id": "atmospheric-tamil",
   "metadata": {},
   "outputs": [
    {
     "name": "stdout",
     "output_type": "stream",
     "text": [
      "MY NAME IS LEON.\n"
     ]
    }
   ],
   "source": [
    "print(my_sentence.upper())"
   ]
  },
  {
   "cell_type": "code",
   "execution_count": 32,
   "id": "frozen-mistress",
   "metadata": {},
   "outputs": [
    {
     "name": "stdout",
     "output_type": "stream",
     "text": [
      "My name is Leon.\n"
     ]
    }
   ],
   "source": [
    "print(my_sentence)"
   ]
  },
  {
   "cell_type": "code",
   "execution_count": 33,
   "id": "crucial-actress",
   "metadata": {},
   "outputs": [
    {
     "name": "stdout",
     "output_type": "stream",
     "text": [
      "['__add__', '__class__', '__contains__', '__delattr__', '__dir__', '__doc__', '__eq__', '__format__', '__ge__', '__getattribute__', '__getitem__', '__getnewargs__', '__gt__', '__hash__', '__init__', '__init_subclass__', '__iter__', '__le__', '__len__', '__lt__', '__mod__', '__mul__', '__ne__', '__new__', '__reduce__', '__reduce_ex__', '__repr__', '__rmod__', '__rmul__', '__setattr__', '__sizeof__', '__str__', '__subclasshook__', 'capitalize', 'casefold', 'center', 'count', 'encode', 'endswith', 'expandtabs', 'find', 'format', 'format_map', 'index', 'isalnum', 'isalpha', 'isascii', 'isdecimal', 'isdigit', 'isidentifier', 'islower', 'isnumeric', 'isprintable', 'isspace', 'istitle', 'isupper', 'join', 'ljust', 'lower', 'lstrip', 'maketrans', 'partition', 'removeprefix', 'removesuffix', 'replace', 'rfind', 'rindex', 'rjust', 'rpartition', 'rsplit', 'rstrip', 'split', 'splitlines', 'startswith', 'strip', 'swapcase', 'title', 'translate', 'upper', 'zfill']\n"
     ]
    }
   ],
   "source": [
    "print(dir(my_sentence))"
   ]
  },
  {
   "cell_type": "code",
   "execution_count": 34,
   "id": "fantastic-world",
   "metadata": {},
   "outputs": [],
   "source": [
    "my_string = \"The quick brown fox\""
   ]
  },
  {
   "cell_type": "code",
   "execution_count": 35,
   "id": "unsigned-edwards",
   "metadata": {},
   "outputs": [
    {
     "data": {
      "text/plain": [
       "True"
      ]
     },
     "execution_count": 35,
     "metadata": {},
     "output_type": "execute_result"
    }
   ],
   "source": [
    "my_string.startswith(\"The\")"
   ]
  },
  {
   "cell_type": "code",
   "execution_count": 36,
   "id": "complete-enough",
   "metadata": {},
   "outputs": [
    {
     "data": {
      "text/plain": [
       "False"
      ]
     },
     "execution_count": 36,
     "metadata": {},
     "output_type": "execute_result"
    }
   ],
   "source": [
    "my_string.startswith(\"the\")"
   ]
  },
  {
   "cell_type": "code",
   "execution_count": 37,
   "id": "great-episode",
   "metadata": {},
   "outputs": [
    {
     "data": {
      "text/plain": [
       "4"
      ]
     },
     "execution_count": 37,
     "metadata": {},
     "output_type": "execute_result"
    }
   ],
   "source": [
    "my_string.find(\"quick\")"
   ]
  },
  {
   "cell_type": "code",
   "execution_count": 38,
   "id": "passive-canadian",
   "metadata": {},
   "outputs": [
    {
     "data": {
      "text/plain": [
       "1"
      ]
     },
     "execution_count": 38,
     "metadata": {},
     "output_type": "execute_result"
    }
   ],
   "source": [
    "my_string.count(\"fox\")"
   ]
  },
  {
   "cell_type": "code",
   "execution_count": 39,
   "id": "medieval-corner",
   "metadata": {},
   "outputs": [
    {
     "data": {
      "text/plain": [
       "'The_quick_brown_fox'"
      ]
     },
     "execution_count": 39,
     "metadata": {},
     "output_type": "execute_result"
    }
   ],
   "source": [
    "my_string.replace(\" \", \"_\")"
   ]
  },
  {
   "cell_type": "markdown",
   "id": "cross-currency",
   "metadata": {},
   "source": [
    "## Boolean values"
   ]
  },
  {
   "cell_type": "code",
   "execution_count": 40,
   "id": "connected-charm",
   "metadata": {},
   "outputs": [
    {
     "name": "stdout",
     "output_type": "stream",
     "text": [
      "True\n",
      "False\n"
     ]
    }
   ],
   "source": [
    "print(True)\n",
    "print(False)"
   ]
  },
  {
   "cell_type": "code",
   "execution_count": 41,
   "id": "southwest-commissioner",
   "metadata": {},
   "outputs": [
    {
     "name": "stdout",
     "output_type": "stream",
     "text": [
      "<class 'bool'>\n"
     ]
    }
   ],
   "source": [
    "print(type(True))"
   ]
  },
  {
   "cell_type": "code",
   "execution_count": 42,
   "id": "dimensional-greenhouse",
   "metadata": {},
   "outputs": [
    {
     "ename": "NameError",
     "evalue": "name 'true' is not defined",
     "output_type": "error",
     "traceback": [
      "\u001b[0;31m---------------------------------------------------------------------------\u001b[0m",
      "\u001b[0;31mNameError\u001b[0m                                 Traceback (most recent call last)",
      "\u001b[0;32m<ipython-input-42-724ba28f4a9a>\u001b[0m in \u001b[0;36m<module>\u001b[0;34m\u001b[0m\n\u001b[0;32m----> 1\u001b[0;31m \u001b[0mtrue\u001b[0m\u001b[0;34m\u001b[0m\u001b[0;34m\u001b[0m\u001b[0m\n\u001b[0m",
      "\u001b[0;31mNameError\u001b[0m: name 'true' is not defined"
     ]
    }
   ],
   "source": [
    "true"
   ]
  },
  {
   "cell_type": "code",
   "execution_count": 43,
   "id": "balanced-fifty",
   "metadata": {},
   "outputs": [
    {
     "name": "stdout",
     "output_type": "stream",
     "text": [
      "False\n"
     ]
    }
   ],
   "source": [
    "print(\"hello\" == \"HELLO\")"
   ]
  },
  {
   "cell_type": "code",
   "execution_count": 44,
   "id": "interstate-doctrine",
   "metadata": {},
   "outputs": [
    {
     "name": "stdout",
     "output_type": "stream",
     "text": [
      "False\n"
     ]
    }
   ],
   "source": [
    "print(3 == 4)"
   ]
  },
  {
   "cell_type": "code",
   "execution_count": 45,
   "id": "aging-needle",
   "metadata": {},
   "outputs": [
    {
     "name": "stdout",
     "output_type": "stream",
     "text": [
      "True\n"
     ]
    }
   ],
   "source": [
    "print(3 != 4)"
   ]
  },
  {
   "cell_type": "code",
   "execution_count": 46,
   "id": "removable-malawi",
   "metadata": {},
   "outputs": [
    {
     "name": "stdout",
     "output_type": "stream",
     "text": [
      "True\n"
     ]
    }
   ],
   "source": [
    "print(3 < 4)"
   ]
  },
  {
   "cell_type": "code",
   "execution_count": 47,
   "id": "respiratory-denial",
   "metadata": {},
   "outputs": [
    {
     "data": {
      "text/plain": [
       "True"
      ]
     },
     "execution_count": 47,
     "metadata": {},
     "output_type": "execute_result"
    }
   ],
   "source": [
    "bool_value = \"TRUE\"\n",
    "bool(bool_value)"
   ]
  },
  {
   "cell_type": "code",
   "execution_count": 48,
   "id": "comfortable-visiting",
   "metadata": {},
   "outputs": [
    {
     "name": "stdout",
     "output_type": "stream",
     "text": [
      "read as type  <class 'str'>\n",
      "value when cast to bool True\n",
      "read as type  <class 'str'>\n",
      "value when cast to bool True\n",
      "read as type  <class 'int'>\n",
      "value when cast to bool True\n",
      "read as type  <class 'int'>\n",
      "value when cast to bool False\n",
      "read as type  <class 'int'>\n",
      "value when cast to bool True\n",
      "True\n"
     ]
    }
   ],
   "source": [
    "bool_val1 = 'TRUE'\n",
    "print('read as type ',type(bool_val1))\n",
    "print('value when cast to bool',bool(bool_val1))\n",
    "\n",
    "bool_val2 = 'FALSE'\n",
    "print('read as type ',type(bool_val2))\n",
    "print('value when cast to bool',bool(bool_val2))\n",
    "\n",
    "bool_val3 = 1\n",
    "print('read as type ',type(bool_val3))\n",
    "print('value when cast to bool',bool(bool_val3))\n",
    "\n",
    "bool_val4 = 0\n",
    "print('read as type ',type(bool_val4))\n",
    "print('value when cast to bool',bool(bool_val4))\n",
    "\n",
    "bool_val5 = -1\n",
    "print('read as type ',type(bool_val5))\n",
    "print('value when cast to bool',bool(bool_val5))\n",
    "print(bool(bool_val5))"
   ]
  },
  {
   "cell_type": "code",
   "execution_count": 49,
   "id": "higher-degree",
   "metadata": {},
   "outputs": [
    {
     "data": {
      "text/plain": [
       "False"
      ]
     },
     "execution_count": 49,
     "metadata": {},
     "output_type": "execute_result"
    }
   ],
   "source": [
    "bool(\"\")"
   ]
  },
  {
   "cell_type": "markdown",
   "id": "mineral-storage",
   "metadata": {},
   "source": [
    "## Structured data types"
   ]
  },
  {
   "cell_type": "code",
   "execution_count": 50,
   "id": "sealed-trustee",
   "metadata": {},
   "outputs": [
    {
     "name": "stdout",
     "output_type": "stream",
     "text": [
      "[6, 54, 89]\n",
      "<class 'list'>\n"
     ]
    }
   ],
   "source": [
    "list1 = [6, 54, 89]\n",
    "print(list1)\n",
    "print(type(list1))"
   ]
  },
  {
   "cell_type": "code",
   "execution_count": 51,
   "id": "together-sudan",
   "metadata": {},
   "outputs": [],
   "source": [
    "list2 = [6, \"hello\", 3.1]"
   ]
  },
  {
   "cell_type": "code",
   "execution_count": 52,
   "id": "subsequent-rover",
   "metadata": {},
   "outputs": [
    {
     "data": {
      "text/plain": [
       "6"
      ]
     },
     "execution_count": 52,
     "metadata": {},
     "output_type": "execute_result"
    }
   ],
   "source": [
    "list1[0]"
   ]
  },
  {
   "cell_type": "code",
   "execution_count": 53,
   "id": "wound-primary",
   "metadata": {},
   "outputs": [
    {
     "data": {
      "text/plain": [
       "[6, 54]"
      ]
     },
     "execution_count": 53,
     "metadata": {},
     "output_type": "execute_result"
    }
   ],
   "source": [
    "list1[0:2]"
   ]
  },
  {
   "cell_type": "code",
   "execution_count": 54,
   "id": "living-member",
   "metadata": {},
   "outputs": [
    {
     "name": "stdout",
     "output_type": "stream",
     "text": [
      "[6, 89]\n"
     ]
    }
   ],
   "source": [
    "list3 = [list1[0], list1[2]]\n",
    "print(list3)"
   ]
  },
  {
   "cell_type": "code",
   "execution_count": 55,
   "id": "exclusive-married",
   "metadata": {},
   "outputs": [
    {
     "name": "stdout",
     "output_type": "stream",
     "text": [
      "11\n",
      "[5, 11]\n"
     ]
    }
   ],
   "source": [
    "num_list = [4,5,6,11]\n",
    "\n",
    "last_num_in_list = num_list[-1]\n",
    "print(last_num_in_list)\n",
    "\n",
    "odd_from_list = [num_list[1], num_list[-1]]\n",
    "print(odd_from_list)"
   ]
  },
  {
   "cell_type": "code",
   "execution_count": 56,
   "id": "imposed-chair",
   "metadata": {},
   "outputs": [
    {
     "data": {
      "text/plain": [
       "array([ 5, 11])"
      ]
     },
     "execution_count": 56,
     "metadata": {},
     "output_type": "execute_result"
    }
   ],
   "source": [
    "import numpy as np\n",
    "num_list_np_array = np.array(num_list)\n",
    "num_list_np_array[num_list_np_array%2 == 1]"
   ]
  },
  {
   "cell_type": "code",
   "execution_count": 57,
   "id": "lasting-sleep",
   "metadata": {},
   "outputs": [
    {
     "data": {
      "text/plain": [
       "[0, 1, 2, 3, 4]"
      ]
     },
     "execution_count": 57,
     "metadata": {},
     "output_type": "execute_result"
    }
   ],
   "source": [
    "list(range(5))"
   ]
  },
  {
   "cell_type": "code",
   "execution_count": 58,
   "id": "marked-constitutional",
   "metadata": {},
   "outputs": [
    {
     "data": {
      "text/plain": [
       "[1, 2, 3, 4, 5, 6, 7, 8]"
      ]
     },
     "execution_count": 58,
     "metadata": {},
     "output_type": "execute_result"
    }
   ],
   "source": [
    "list(range(1, 9))"
   ]
  },
  {
   "cell_type": "code",
   "execution_count": 59,
   "id": "collectible-lesson",
   "metadata": {},
   "outputs": [],
   "source": [
    "my_list = list(range(2, 11, 2))"
   ]
  },
  {
   "cell_type": "code",
   "execution_count": 60,
   "id": "signal-stock",
   "metadata": {},
   "outputs": [
    {
     "name": "stdout",
     "output_type": "stream",
     "text": [
      "[]\n"
     ]
    }
   ],
   "source": [
    "my_list = list(range(2, 11, -2))\n",
    "print(my_list)"
   ]
  },
  {
   "cell_type": "code",
   "execution_count": 61,
   "id": "considerable-graphics",
   "metadata": {},
   "outputs": [
    {
     "name": "stdout",
     "output_type": "stream",
     "text": [
      "[10, 8, 6, 4, 2]\n"
     ]
    }
   ],
   "source": [
    "my_list = list(range(10, 1, -2))\n",
    "print(my_list)"
   ]
  },
  {
   "cell_type": "markdown",
   "id": "hungry-korea",
   "metadata": {},
   "source": [
    "## The `if` statement"
   ]
  },
  {
   "cell_type": "code",
   "execution_count": 62,
   "id": "selected-threat",
   "metadata": {},
   "outputs": [
    {
     "ename": "SyntaxError",
     "evalue": "invalid syntax (<ipython-input-62-8ca0a7e6995d>, line 2)",
     "output_type": "error",
     "traceback": [
      "\u001b[0;36m  File \u001b[0;32m\"<ipython-input-62-8ca0a7e6995d>\"\u001b[0;36m, line \u001b[0;32m2\u001b[0m\n\u001b[0;31m    statement 1\u001b[0m\n\u001b[0m              ^\u001b[0m\n\u001b[0;31mSyntaxError\u001b[0m\u001b[0;31m:\u001b[0m invalid syntax\n"
     ]
    }
   ],
   "source": [
    "if statement:\n",
    "    statement 1\n",
    "    statement 2\n",
    "    \n",
    "statement always executed"
   ]
  },
  {
   "cell_type": "code",
   "execution_count": 63,
   "id": "distant-billy",
   "metadata": {},
   "outputs": [
    {
     "name": "stdout",
     "output_type": "stream",
     "text": [
      "value is 5 threshold is 4\n",
      "5 is bigger than 4\n"
     ]
    }
   ],
   "source": [
    "value = 5\n",
    "threshold = 4\n",
    "print(\"value is\", value, \"threshold is\", threshold)\n",
    "\n",
    "if value > threshold:\n",
    "    print(value, \"is bigger than\", threshold)"
   ]
  },
  {
   "cell_type": "code",
   "execution_count": 64,
   "id": "greek-bolivia",
   "metadata": {},
   "outputs": [
    {
     "name": "stdout",
     "output_type": "stream",
     "text": [
      "value is 3 threshold is 4\n",
      "end\n"
     ]
    }
   ],
   "source": [
    "value = 3\n",
    "threshold = 4\n",
    "print(\"value is\", value, \"threshold is\", threshold)\n",
    "\n",
    "if value > threshold:\n",
    "    print(value, \"is bigger than\", threshold)\n",
    "    \n",
    "print(\"end\")"
   ]
  },
  {
   "cell_type": "code",
   "execution_count": 65,
   "id": "irish-oakland",
   "metadata": {},
   "outputs": [
    {
     "name": "stdout",
     "output_type": "stream",
     "text": [
      "value is 4 threshold is 4\n",
      "4 is equal to 4\n",
      "end\n"
     ]
    }
   ],
   "source": [
    "value = 4\n",
    "threshold = 4\n",
    "print(\"value is\", value, \"threshold is\", threshold)\n",
    "\n",
    "if value > threshold:\n",
    "    print(value, \"is bigger than\", threshold)\n",
    "elif value == threshold:\n",
    "    print(value, \"is equal to\", threshold)\n",
    "else:\n",
    "    print(value, \"is smaller than\", threshold)\n",
    "    \n",
    "print(\"end\")"
   ]
  },
  {
   "cell_type": "markdown",
   "id": "ignored-camel",
   "metadata": {},
   "source": [
    "## The `for` loop"
   ]
  },
  {
   "cell_type": "code",
   "execution_count": 66,
   "id": "hollow-dependence",
   "metadata": {},
   "outputs": [
    {
     "name": "stdout",
     "output_type": "stream",
     "text": [
      "[1, 2, 3, True, 'hello']\n"
     ]
    }
   ],
   "source": [
    "my_list = [1, 2, 3, True, \"hello\"]\n",
    "print(my_list)"
   ]
  },
  {
   "cell_type": "code",
   "execution_count": 67,
   "id": "involved-revelation",
   "metadata": {},
   "outputs": [
    {
     "name": "stdout",
     "output_type": "stream",
     "text": [
      "1\n",
      "2\n",
      "3\n",
      "True\n",
      "hello\n"
     ]
    }
   ],
   "source": [
    "for item in my_list:\n",
    "    print(item)"
   ]
  },
  {
   "cell_type": "code",
   "execution_count": 68,
   "id": "loving-ideal",
   "metadata": {},
   "outputs": [
    {
     "name": "stdout",
     "output_type": "stream",
     "text": [
      "The\n",
      "THE\n",
      "quick\n",
      "QUICK\n",
      "brown\n",
      "BROWN\n",
      "fox\n",
      "FOX\n",
      "jumped\n",
      "JUMPED\n",
      "over\n",
      "OVER\n",
      "the\n",
      "THE\n",
      "lazy\n",
      "LAZY\n",
      "sleeping\n",
      "SLEEPING\n",
      "dog\n",
      "DOG\n"
     ]
    }
   ],
   "source": [
    "long_string = \"The quick brown fox jumped over the lazy sleeping dog\"\n",
    "for word in long_string.split():\n",
    "    print(word)\n",
    "    print(word.upper())"
   ]
  },
  {
   "cell_type": "code",
   "execution_count": 69,
   "id": "detected-yukon",
   "metadata": {},
   "outputs": [
    {
     "name": "stdout",
     "output_type": "stream",
     "text": [
      "01/01/2010\n",
      "34.5\n",
      "Yellow\n",
      "True\n"
     ]
    }
   ],
   "source": [
    "variablelist = \"01/01/2010,34.5,Yellow,True\"\n",
    "for word in variablelist.split(\",\"):\n",
    "    print(word)"
   ]
  },
  {
   "cell_type": "markdown",
   "id": "instructional-combine",
   "metadata": {},
   "source": [
    "## Defining your own functions"
   ]
  },
  {
   "cell_type": "code",
   "execution_count": 70,
   "id": "incorrect-narrative",
   "metadata": {},
   "outputs": [],
   "source": [
    "items_owned = \"bicycle;television;solar_panel;table\""
   ]
  },
  {
   "cell_type": "code",
   "execution_count": 71,
   "id": "wicked-socket",
   "metadata": {},
   "outputs": [],
   "source": [
    "def get_item_count(items_str, sep):\n",
    "    '''\n",
    "    This function counts the number of items in a string\n",
    "    '''\n",
    "    items_list = items_str.split(sep)\n",
    "    num_items = len(items_list)\n",
    "    return num_items"
   ]
  },
  {
   "cell_type": "code",
   "execution_count": 72,
   "id": "whole-awareness",
   "metadata": {},
   "outputs": [
    {
     "name": "stdout",
     "output_type": "stream",
     "text": [
      "4\n"
     ]
    }
   ],
   "source": [
    "number_of_items = get_item_count(items_owned, \";\")\n",
    "print(number_of_items)\n",
    "# comment"
   ]
  },
  {
   "cell_type": "markdown",
   "id": "difficult-management",
   "metadata": {},
   "source": [
    "![](https://datacarpentry.org/python-socialsci/fig/functionAnatomy.png)"
   ]
  },
  {
   "cell_type": "markdown",
   "id": "external-constitution",
   "metadata": {},
   "source": [
    "to run a cell: shift + enter"
   ]
  },
  {
   "cell_type": "code",
   "execution_count": 73,
   "id": "worldwide-template",
   "metadata": {},
   "outputs": [
    {
     "data": {
      "text/plain": [
       "6"
      ]
     },
     "execution_count": 73,
     "metadata": {},
     "output_type": "execute_result"
    }
   ],
   "source": [
    "def calculate_vol_cuboid(h, w, l):\n",
    "    \"\"\"\n",
    "    Calculates the volume of a cuboid. h, w, and l are \n",
    "    the height, width, and length\n",
    "    \"\"\"\n",
    "    volume = h * w * l\n",
    "    return volume\n",
    "\n",
    "calculate_vol_cuboid(1, 2, 3)"
   ]
  },
  {
   "cell_type": "code",
   "execution_count": 74,
   "id": "laden-factor",
   "metadata": {},
   "outputs": [
    {
     "name": "stdout",
     "output_type": "stream",
     "text": [
      "Help on function calculate_vol_cuboid in module __main__:\n",
      "\n",
      "calculate_vol_cuboid(h, w, l)\n",
      "    Calculates the volume of a cuboid. h, w, and l are \n",
      "    the height, width, and length\n",
      "\n"
     ]
    }
   ],
   "source": [
    "help(calculate_vol_cuboid)"
   ]
  }
 ],
 "metadata": {
  "kernelspec": {
   "display_name": "Python 3",
   "language": "python",
   "name": "python3"
  },
  "language_info": {
   "codemirror_mode": {
    "name": "ipython",
    "version": 3
   },
   "file_extension": ".py",
   "mimetype": "text/x-python",
   "name": "python",
   "nbconvert_exporter": "python",
   "pygments_lexer": "ipython3",
   "version": "3.9.1"
  }
 },
 "nbformat": 4,
 "nbformat_minor": 5
}
